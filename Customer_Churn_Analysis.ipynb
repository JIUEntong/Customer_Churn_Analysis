{
  "nbformat": 4,
  "nbformat_minor": 0,
  "metadata": {
    "colab": {
      "name": "Customer Churn Analysis. ipynb",
      "version": "0.3.2",
      "provenance": [],
      "collapsed_sections": [],
      "include_colab_link": true
    },
    "kernelspec": {
      "name": "python3",
      "display_name": "Python 3"
    }
  },
  "cells": [
    {
      "cell_type": "markdown",
      "metadata": {
        "id": "view-in-github",
        "colab_type": "text"
      },
      "source": [
        "<a href=\"https://colab.research.google.com/github/JIUEntong/Customer_Churn_Analysis/blob/master/Customer_Churn_Analysis.ipynb\" target=\"_parent\"><img src=\"https://colab.research.google.com/assets/colab-badge.svg\" alt=\"Open In Colab\"/></a>"
      ]
    },
    {
      "cell_type": "markdown",
      "metadata": {
        "id": "uz3K6lbsmjth",
        "colab_type": "text"
      },
      "source": [
        "#Customer Churn Prediction Project\n",
        "\n",
        "\n",
        "1.   Project Goal:\n",
        "\n",
        "      In this project, we use supervised machine learning models to predict customer churn. Also, we will analyze top factors that influence user retention.\n",
        "2.   Data Source:[Telco Customer Churn Dataset From Kaggle](https://www.kaggle.com/blastchar/telco-customer-churn)\n",
        "\n",
        "\n"
      ]
    },
    {
      "cell_type": "code",
      "metadata": {
        "id": "QuYLBPM_HohG",
        "colab_type": "code",
        "colab": {}
      },
      "source": [
        "# Customer Churn Prediction Project"
      ],
      "execution_count": 0,
      "outputs": []
    },
    {
      "cell_type": "markdown",
      "metadata": {
        "id": "i5XpbV32miMU",
        "colab_type": "text"
      },
      "source": [
        ""
      ]
    }
  ]
}